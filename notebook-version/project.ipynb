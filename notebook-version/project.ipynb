{
 "cells": [
  {
   "cell_type": "markdown",
   "metadata": {},
   "source": [
    "# Membuat Class Transaksi\n",
    "\n",
    "Fungsi yang akan dipasang ke dalam Class:\n",
    "1. add_item => menambah satu item ke dalam keranjang\n",
    "2. update_item => edit salah satu item di keranjang\n",
    "3. delete_item => menghapus salah satu item keranjang\n",
    "4. reset_transaction => menghapus seluruh isi keranjang\n",
    "5. check_order => mengecek dan print output isi keranjang\n",
    "6. total_price => menghitung total harga dari seluruh item di keranjang\n",
    "\n",
    "Disini ada beberapa langkah yang akan dimasukkan menjadi Function di dalam Class:\n",
    "1. Membuat Class Transaction\n",
    "\n",
    "2. Membuat Function __init__\n",
    "    def __init__(self):\n",
    "        self.items = []\n",
    "\n",
    "3. Membuat function add_item(self, nama_item, jumlah_item, harga_per_item)\n",
    "    - nama_item         : str => nama barang\n",
    "    - jumlah_item       : int => jumlah per barang yang akan dimasukkan\n",
    "    - harga_per_item    : int => harga barang\n",
    "    - Perlu menambahkan variabel Jumlah Harga per jumlah item:\n",
    "        jumlah_harga = jumlah_item * harga_per_item\n",
    "\n",
    "4. Membuat function update_item(self, nama_item, ...), ada 3 fungsi update yang akan dimasukkan\n",
    "    - update_item_nama(self, nama_item, new_nama) => merubah nama barang\n",
    "        - nama_item : str => nama barang yang dipilih\n",
    "        - new_nama  : str => nama baru dari barang yang di pilih\n",
    "    - update_item_qty(self, nama_item, jumlah_item) => merubah jumlah barang\n",
    "        - nama_item     : str => nama barang yang dipilih\n",
    "        - jumlah_item   : int => merubah jumlah barang\n",
    "    - update_item_price(self, nama_item, harga_per_item) => mengganti harga barang\n",
    "        - nama_item     : str => nama barang yang dipilih\n",
    "        - harga_per_item   : int => merubah harga per barang\n",
    "\n",
    "5. Membuat function delete_item(self, nama_item), memakai fungsi .remove()\n",
    "\n",
    "6. Membuat function reset_transaction(self), memakai fungsi .clear()\n",
    "\n",
    "7. Membuat function check_order()\n",
    "    - Disini ada menambahkan library baru untuk tampilan list menjadi bentuk tabel\n",
    "    - tabulate(list, headers, tablefmt)\n",
    "        - list      : [] \n",
    "        - header    : [] => header untuk menampilkan header row table\n",
    "        - tablefmt  : \"grid\" => Bisa menggunakan grid atau bentuk tabel lainnya\n",
    "    - Cek dokumentasi tabulate: \n",
    "        - https://github.com/astanin/python-tabulate\n",
    "\n",
    "8. Membuat function total_price()\n",
    "    - Function untuk menghitung total harga dari seluruh harga per item di dalam keranjang\n",
    "    - total_harga += total seluruh jumlah harga => Melakukan iterasi menambahkan seluruh jumlah harga "
   ]
  },
  {
   "cell_type": "markdown",
   "metadata": {},
   "source": [
    "##### Cara Install Tabulate\n",
    "- pip install tabulate\n",
    "\n",
    "##### Cara Import Tabulate\n",
    "- from tabulate import tabulate"
   ]
  },
  {
   "cell_type": "code",
   "execution_count": 30,
   "metadata": {},
   "outputs": [
    {
     "name": "stdout",
     "output_type": "stream",
     "text": [
      "<class 'type'>\n"
     ]
    }
   ],
   "source": [
    "from tabulate import tabulate\n",
    "\n",
    "class Transaction:\n",
    "\n",
    "    def __init__(self):\n",
    "        self.items = []\n",
    "\n",
    "    \"\"\"\n",
    "    ### Add item untuk menambahkan item ke keranjang\n",
    "\n",
    "    ### Parameter\n",
    "    ----------------------\n",
    "    nama_item       : str\n",
    "    jumlah_item     : int\n",
    "    harga_per_item  : int\n",
    "\n",
    "    ### Function\n",
    "    ---------------------\n",
    "    .append()\n",
    "    \"\"\"\n",
    "    def add_item(self, nama_item, jumlah_item, harga_per_item):\n",
    "        jumlah_harga = jumlah_item * harga_per_item\n",
    "        item = [nama_item, jumlah_item, harga_per_item, jumlah_harga]\n",
    "        self.items.append(item)\n",
    "    \"\"\"\n",
    "    ### End of add function\n",
    "    \"\"\"\n",
    "\n",
    "\n",
    "\n",
    "    \"\"\"\n",
    "    ### Membuat fungsi Update untuk merubah salah satu nama item di dalam keranjang\n",
    "\n",
    "    ### Parameter\n",
    "    ----------------------\n",
    "    nama_item       : str\n",
    "    new_nama        : str\n",
    "\n",
    "    ### Function\n",
    "    ---------------------\n",
    "    .pop()\n",
    "    \"\"\"\n",
    "    def update_item_name(self, nama_item, new_nama):\n",
    "        for item in self.items:\n",
    "            if item[0] == nama_item:\n",
    "                item.pop(0)\n",
    "                item.insert(0, new_nama)\n",
    "    \n",
    "    def update_item_qty(self, nama_item, jumlah_item):\n",
    "        for item in self.items:\n",
    "            if item[0] == nama_item:\n",
    "                item.pop(3)\n",
    "                item.pop(1)\n",
    "                item.insert(1, jumlah_item)\n",
    "                jumlah_harga = jumlah_item * item[2]\n",
    "                item.insert(3, jumlah_harga)\n",
    "        \n",
    "    def update_item_price(self, nama_item, harga_per_item):\n",
    "        for item in self.items:\n",
    "            if item[0] == nama_item:\n",
    "                item.pop(3)\n",
    "                item.pop(2)\n",
    "                item.insert(2, harga_per_item)\n",
    "                jumlah_harga = harga_per_item * item[1]\n",
    "                item.insert(3, jumlah_harga)\n",
    "    \"\"\"\n",
    "    ### End of all update function\n",
    "    \"\"\"\n",
    "\n",
    "\n",
    "\n",
    "    \"\"\"\n",
    "    ### Fungsi delete untuk menghapus item yang kita pilih\n",
    "\n",
    "    ### Parameter\n",
    "    -----------------\n",
    "    nama_item   : str\n",
    "\n",
    "    ### Function\n",
    "    -----------------\n",
    "    .remove()\n",
    "    \"\"\"\n",
    "    def delete_item(self, nama_item):\n",
    "        for item in self.items:\n",
    "            if item[0] == nama_item:\n",
    "                self.items.remove(item)\n",
    "\n",
    "\n",
    "\n",
    "    \"\"\"\n",
    "    ### Reset function untuk mengosongkan seluruh item dari keranjang\n",
    "\n",
    "    ### Function\n",
    "    ------------\n",
    "    .clear()\n",
    "    \"\"\"\n",
    "    def reset_transaction(self):\n",
    "        self.items.clear()\n",
    "    \"\"\"\n",
    "    End of all delete function\n",
    "    \"\"\"\n",
    "\n",
    "    \"\"\"\n",
    "    ### Check Order untuk menampilkan item yang sudah masuk ke keranjang\n",
    "\n",
    "    ### Memakai library tambahan dengan tabulate\n",
    "    \"\"\"\n",
    "    def check_order(self):\n",
    "        head = [\"Item\", \"Jumlah item\", \"Harga/item\", \"Harga total\"]\n",
    "        print(tabulate(self.items, headers=head, tablefmt=\"grid\"))\n",
    "\n",
    "    def total_price(self):\n",
    "        total_bayar = []\n",
    "        for item in self.items:\n",
    "            jumlah_harga_per_item = item[1] * item[2]\n",
    "            total_harga = 0\n",
    "            total_harga += jumlah_harga_per_item\n",
    "            total_bayar.append(total_harga)\n",
    "        total = sum(total_bayar)\n",
    "\n",
    "        \"\"\"\n",
    "        ### Membuat kondisi diskon dari total harga yang ditentukan\n",
    "\n",
    "        if total > Rp 200.000 then discount 5%\n",
    "        elif total > Rp 300.000 then discount 8%\n",
    "        elif total > Rp 500.000 then discount 10%\n",
    "        \"\"\"\n",
    "\n",
    "        if total > 500000:\n",
    "            print(f\"Total harga semua item adalah Rp {total}, maka anda mendapatkan diskon 10%\")\n",
    "            discount = 0.1\n",
    "            total_bayar = int(total - (total * discount))\n",
    "            print(f\"Jadi total yang harus anda bayar adalah = Rp {total_bayar}\")\n",
    "\n",
    "        elif total > 300000:\n",
    "            print(f\"Total harga semua item adalah Rp {total}, maka anda mendapatkan diskon 8%\")\n",
    "            discount = 0.08\n",
    "            total_bayar = int(total - (total * discount))\n",
    "            print(f\"Jadi total yang harus anda bayar adalah = Rp {total_bayar}\")\n",
    "\n",
    "        elif total > 200000:\n",
    "            print(f\"Total harga semua item adalah Rp {total}, maka anda mendapatkan diskon 5%\")\n",
    "            discount = 0.05\n",
    "            total_bayar = int(total - (total * discount))\n",
    "            print(f\"Jadi total yang harus anda bayar adalah = Rp {total_bayar}\")\n",
    "        \n",
    "        \n",
    "        \n",
    "        \n",
    "\n",
    "\n",
    "print(type(Transaction))"
   ]
  },
  {
   "cell_type": "markdown",
   "metadata": {},
   "source": [
    "## Membuat Input Belanja (Nama Item, Jumlah Item, Harga Per Item)"
   ]
  },
  {
   "cell_type": "code",
   "execution_count": 31,
   "metadata": {},
   "outputs": [
    {
     "name": "stdout",
     "output_type": "stream",
     "text": [
      "+-----------+---------------+--------------+---------------+\n",
      "| Item      |   Jumlah item |   Harga/item |   Harga total |\n",
      "+===========+===============+==============+===============+\n",
      "| Baju      |             2 |        10000 |         20000 |\n",
      "+-----------+---------------+--------------+---------------+\n",
      "| Celana    |             2 |        20000 |         40000 |\n",
      "+-----------+---------------+--------------+---------------+\n",
      "| Kaos Kaki |             2 |        30000 |         60000 |\n",
      "+-----------+---------------+--------------+---------------+\n",
      "| Sepatu    |             2 |        30000 |         60000 |\n",
      "+-----------+---------------+--------------+---------------+\n",
      "| Topi      |             2 |        20000 |         40000 |\n",
      "+-----------+---------------+--------------+---------------+\n",
      "Total harga semua item adalah Rp 220000, maka anda mendapatkan diskon 5%\n",
      "Jadi total yang harus anda bayar adalah = Rp 209000\n"
     ]
    }
   ],
   "source": [
    "cart = Transaction()\n",
    "\n",
    "cart.add_item(\"Baju\", 2, 10000)\n",
    "cart.add_item(\"Celana\", 2, 20000)\n",
    "cart.add_item(\"Kaos Kaki\", 2, 30000)\n",
    "cart.add_item(\"Sepatu\", 2, 30000)\n",
    "cart.add_item(\"Topi\", 2, 20000)\n",
    "# cart.total_price()\n",
    "cart.check_order()\n",
    "cart.total_price()\n"
   ]
  },
  {
   "cell_type": "markdown",
   "metadata": {},
   "source": [
    "## Mencoba Edit data sesuai Nama Item yang diinginkan"
   ]
  },
  {
   "cell_type": "code",
   "execution_count": 32,
   "metadata": {},
   "outputs": [
    {
     "name": "stdout",
     "output_type": "stream",
     "text": [
      "+-------------+---------------+--------------+---------------+\n",
      "| Item        |   Jumlah item |   Harga/item |   Harga total |\n",
      "+=============+===============+==============+===============+\n",
      "| Baju Barney |             2 |        10000 |         20000 |\n",
      "+-------------+---------------+--------------+---------------+\n",
      "| Celana      |             2 |        20000 |         40000 |\n",
      "+-------------+---------------+--------------+---------------+\n",
      "| Kaos Kaki   |             2 |        30000 |         60000 |\n",
      "+-------------+---------------+--------------+---------------+\n",
      "| Sepatu      |             2 |        30000 |         60000 |\n",
      "+-------------+---------------+--------------+---------------+\n",
      "| Topi        |             2 |        20000 |         40000 |\n",
      "+-------------+---------------+--------------+---------------+\n",
      "Total harga semua item adalah Rp 220000, maka anda mendapatkan diskon 5%\n",
      "Jadi total yang harus anda bayar adalah = Rp 209000\n"
     ]
    }
   ],
   "source": [
    "# Update Data nama item\n",
    "cart.update_item_name(\"Baju\", \"Baju Barney\")\n",
    "\n",
    "cart.check_order()\n",
    "cart.total_price()"
   ]
  },
  {
   "cell_type": "code",
   "execution_count": 33,
   "metadata": {},
   "outputs": [
    {
     "name": "stdout",
     "output_type": "stream",
     "text": [
      "+-------------+---------------+--------------+---------------+\n",
      "| Item        |   Jumlah item |   Harga/item |   Harga total |\n",
      "+=============+===============+==============+===============+\n",
      "| Baju Barney |             2 |        10000 |         20000 |\n",
      "+-------------+---------------+--------------+---------------+\n",
      "| Celana      |             3 |        20000 |         60000 |\n",
      "+-------------+---------------+--------------+---------------+\n",
      "| Kaos Kaki   |             2 |        30000 |         60000 |\n",
      "+-------------+---------------+--------------+---------------+\n",
      "| Sepatu      |             2 |        30000 |         60000 |\n",
      "+-------------+---------------+--------------+---------------+\n",
      "| Topi        |             2 |        20000 |         40000 |\n",
      "+-------------+---------------+--------------+---------------+\n",
      "Total harga semua item adalah Rp 240000, maka anda mendapatkan diskon 5%\n",
      "Jadi total yang harus anda bayar adalah = Rp 228000\n"
     ]
    }
   ],
   "source": [
    "# Update Data jumlah item sesuai nama item yang diinginkan\n",
    "cart.update_item_qty(\"Celana\", 3)\n",
    "\n",
    "cart.check_order()\n",
    "cart.total_price()"
   ]
  },
  {
   "cell_type": "code",
   "execution_count": 34,
   "metadata": {},
   "outputs": [
    {
     "name": "stdout",
     "output_type": "stream",
     "text": [
      "+-------------+---------------+--------------+---------------+\n",
      "| Item        |   Jumlah item |   Harga/item |   Harga total |\n",
      "+=============+===============+==============+===============+\n",
      "| Baju Barney |             2 |        10000 |         20000 |\n",
      "+-------------+---------------+--------------+---------------+\n",
      "| Celana      |             3 |       500000 |       1500000 |\n",
      "+-------------+---------------+--------------+---------------+\n",
      "| Kaos Kaki   |             2 |        30000 |         60000 |\n",
      "+-------------+---------------+--------------+---------------+\n",
      "| Sepatu      |             2 |        30000 |         60000 |\n",
      "+-------------+---------------+--------------+---------------+\n",
      "| Topi        |             2 |        20000 |         40000 |\n",
      "+-------------+---------------+--------------+---------------+\n",
      "Total harga semua item adalah Rp 1680000, maka anda mendapatkan diskon 10%\n",
      "Jadi total yang harus anda bayar adalah = Rp 1512000\n"
     ]
    }
   ],
   "source": [
    "# Update Data Harga sesuai nama Item yang diinginkan\n",
    "cart.update_item_price(\"Celana\", 500000)\n",
    "\n",
    "cart.check_order()\n",
    "cart.total_price()"
   ]
  },
  {
   "cell_type": "markdown",
   "metadata": {},
   "source": [
    "## Menghapus Item yang diinginkan\n",
    "\n",
    "Notes: Jika di launch kembali cell nya dengan item yang sama, maka akan menghasilkan Error!!!"
   ]
  },
  {
   "cell_type": "code",
   "execution_count": 20,
   "metadata": {},
   "outputs": [
    {
     "name": "stdout",
     "output_type": "stream",
     "text": [
      "+-------------+---------------+--------------+---------------+\n",
      "| Item        |   Jumlah item |   Harga/item |   Harga total |\n",
      "+=============+===============+==============+===============+\n",
      "| Baju Barney |             2 |        10000 |         20000 |\n",
      "+-------------+---------------+--------------+---------------+\n",
      "| Kaos Kaki   |             2 |        30000 |         60000 |\n",
      "+-------------+---------------+--------------+---------------+\n",
      "| Sepatu      |             2 |        30000 |         60000 |\n",
      "+-------------+---------------+--------------+---------------+\n",
      "| Topi        |             2 |        20000 |         40000 |\n",
      "+-------------+---------------+--------------+---------------+\n",
      "Total yang harus dibayar = Rp  180000\n"
     ]
    }
   ],
   "source": [
    "cart.delete_item(\"Celana\")\n",
    "\n",
    "cart.check_order()\n",
    "cart.total_price()"
   ]
  },
  {
   "cell_type": "markdown",
   "metadata": {},
   "source": [
    "# Reset Item\n",
    "Isi keranjang akan kosong"
   ]
  },
  {
   "cell_type": "code",
   "execution_count": 21,
   "metadata": {},
   "outputs": [
    {
     "name": "stdout",
     "output_type": "stream",
     "text": [
      "+--------+---------------+--------------+---------------+\n",
      "| Item   | Jumlah item   | Harga/item   | Harga total   |\n",
      "+========+===============+==============+===============+\n",
      "+--------+---------------+--------------+---------------+\n",
      "Total yang harus dibayar = Rp  0\n"
     ]
    }
   ],
   "source": [
    "cart.reset_transaction()\n",
    "\n",
    "cart.check_order()\n",
    "cart.total_price()"
   ]
  }
 ],
 "metadata": {
  "kernelspec": {
   "display_name": "Python 3",
   "language": "python",
   "name": "python3"
  },
  "language_info": {
   "codemirror_mode": {
    "name": "ipython",
    "version": 3
   },
   "file_extension": ".py",
   "mimetype": "text/x-python",
   "name": "python",
   "nbconvert_exporter": "python",
   "pygments_lexer": "ipython3",
   "version": "3.11.4"
  },
  "orig_nbformat": 4
 },
 "nbformat": 4,
 "nbformat_minor": 2
}
